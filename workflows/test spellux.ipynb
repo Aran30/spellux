{
 "cells": [
  {
   "cell_type": "code",
   "execution_count": null,
   "metadata": {},
   "outputs": [],
   "source": [
    "import spellux"
   ]
  },
  {
   "cell_type": "code",
   "execution_count": null,
   "metadata": {},
   "outputs": [],
   "source": [
    "# Define exception dictionary\n",
    "excs = {\"Sproch\":\"Sprooch\"}"
   ]
  },
  {
   "cell_type": "code",
   "execution_count": null,
   "metadata": {},
   "outputs": [],
   "source": [
    "# Set text for correction\n",
    "text = \"Eche hun d'Wort heut den Mueren mussen leesen.\""
   ]
  },
  {
   "cell_type": "code",
   "execution_count": null,
   "metadata": {
    "scrolled": true
   },
   "outputs": [],
   "source": [
    "# Call correction function\n",
    "correct = spellux.normalize_text(text, exceptions={}, mode='combo', sim_ratio=0.8, add_matches=True, stats=True, \n",
    "                                 print_unknown=False, nrule=True, indexing=True, lemmatize=False, output=\"string\", \n",
    "                                 progress=False)"
   ]
  },
  {
   "cell_type": "code",
   "execution_count": null,
   "metadata": {},
   "outputs": [],
   "source": [
    "# Print result\n",
    "print(correct)"
   ]
  },
  {
   "cell_type": "code",
   "execution_count": null,
   "metadata": {},
   "outputs": [],
   "source": [
    "# Print global statistics\n",
    "spellux.global_stats(text)"
   ]
  },
  {
   "cell_type": "code",
   "execution_count": null,
   "metadata": {},
   "outputs": [],
   "source": [
    "# Update correction resources\n",
    "spellux.update_resources(matchdict=True, unknown=False, reset_matchdict=False)"
   ]
  },
  {
   "cell_type": "code",
   "execution_count": null,
   "metadata": {},
   "outputs": [],
   "source": [
    "# Set tokens for lemmatization\n",
    "tokens = [\"Du\", \"hues\", \"Quatsch\", \"mat\", \"eise\", \"Sprooche\", \"gemaach\", \".\"]"
   ]
  },
  {
   "cell_type": "code",
   "execution_count": null,
   "metadata": {},
   "outputs": [],
   "source": [
    "# Call lemmatizer function outside main method\n",
    "lemmas = spellux.lemmatize_text(tokens, sim_ratio=0.8)\n",
    "print(lemmas)"
   ]
  }
 ],
 "metadata": {
  "kernelspec": {
   "display_name": "Python 3",
   "language": "python",
   "name": "python3"
  },
  "language_info": {
   "codemirror_mode": {
    "name": "ipython",
    "version": 3
   },
   "file_extension": ".py",
   "mimetype": "text/x-python",
   "name": "python",
   "nbconvert_exporter": "python",
   "pygments_lexer": "ipython3",
   "version": "3.7.6"
  }
 },
 "nbformat": 4,
 "nbformat_minor": 4
}
